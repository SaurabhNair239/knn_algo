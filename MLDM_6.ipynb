{
  "nbformat": 4,
  "nbformat_minor": 0,
  "metadata": {
    "colab": {
      "name": "MLDM_6.ipynb",
      "provenance": [],
      "collapsed_sections": []
    },
    "kernelspec": {
      "name": "python3",
      "display_name": "Python 3"
    },
    "language_info": {
      "name": "python"
    }
  },
  "cells": [
    {
      "cell_type": "code",
      "metadata": {
        "id": "Tnxh-7uM7UBz"
      },
      "source": [
        "import pandas as pd\n",
        "import numpy as np\n",
        "from scipy import spatial"
      ],
      "execution_count": null,
      "outputs": []
    },
    {
      "cell_type": "code",
      "metadata": {
        "id": "ss6fHTy27Zsz"
      },
      "source": [
        "dataset = pd.read_excel('assignment6.xlsx')"
      ],
      "execution_count": null,
      "outputs": []
    },
    {
      "cell_type": "code",
      "metadata": {
        "colab": {
          "base_uri": "https://localhost:8080/",
          "height": 363
        },
        "id": "dbHigcQG7Zvn",
        "outputId": "0e1d9819-1af7-4df7-826e-f40304941c50"
      },
      "source": [
        "dataset"
      ],
      "execution_count": null,
      "outputs": [
        {
          "output_type": "execute_result",
          "data": {
            "text/html": [
              "<div>\n",
              "<style scoped>\n",
              "    .dataframe tbody tr th:only-of-type {\n",
              "        vertical-align: middle;\n",
              "    }\n",
              "\n",
              "    .dataframe tbody tr th {\n",
              "        vertical-align: top;\n",
              "    }\n",
              "\n",
              "    .dataframe thead th {\n",
              "        text-align: right;\n",
              "    }\n",
              "</style>\n",
              "<table border=\"1\" class=\"dataframe\">\n",
              "  <thead>\n",
              "    <tr style=\"text-align: right;\">\n",
              "      <th></th>\n",
              "      <th>sepal_length</th>\n",
              "      <th>sepal_width</th>\n",
              "      <th>petal_length</th>\n",
              "      <th>petal_width</th>\n",
              "      <th>species</th>\n",
              "    </tr>\n",
              "  </thead>\n",
              "  <tbody>\n",
              "    <tr>\n",
              "      <th>0</th>\n",
              "      <td>5.1</td>\n",
              "      <td>3.5</td>\n",
              "      <td>1.4</td>\n",
              "      <td>0.2</td>\n",
              "      <td>setosa</td>\n",
              "    </tr>\n",
              "    <tr>\n",
              "      <th>1</th>\n",
              "      <td>4.9</td>\n",
              "      <td>3.0</td>\n",
              "      <td>1.4</td>\n",
              "      <td>0.2</td>\n",
              "      <td>setosa</td>\n",
              "    </tr>\n",
              "    <tr>\n",
              "      <th>2</th>\n",
              "      <td>4.7</td>\n",
              "      <td>3.2</td>\n",
              "      <td>1.3</td>\n",
              "      <td>0.2</td>\n",
              "      <td>setosa</td>\n",
              "    </tr>\n",
              "    <tr>\n",
              "      <th>3</th>\n",
              "      <td>4.6</td>\n",
              "      <td>3.1</td>\n",
              "      <td>1.5</td>\n",
              "      <td>0.2</td>\n",
              "      <td>setosa</td>\n",
              "    </tr>\n",
              "    <tr>\n",
              "      <th>4</th>\n",
              "      <td>5.0</td>\n",
              "      <td>3.6</td>\n",
              "      <td>1.4</td>\n",
              "      <td>0.2</td>\n",
              "      <td>setosa</td>\n",
              "    </tr>\n",
              "    <tr>\n",
              "      <th>5</th>\n",
              "      <td>7.0</td>\n",
              "      <td>3.2</td>\n",
              "      <td>4.7</td>\n",
              "      <td>1.4</td>\n",
              "      <td>versicolor</td>\n",
              "    </tr>\n",
              "    <tr>\n",
              "      <th>6</th>\n",
              "      <td>6.4</td>\n",
              "      <td>3.2</td>\n",
              "      <td>4.5</td>\n",
              "      <td>1.5</td>\n",
              "      <td>versicolor</td>\n",
              "    </tr>\n",
              "    <tr>\n",
              "      <th>7</th>\n",
              "      <td>6.9</td>\n",
              "      <td>3.1</td>\n",
              "      <td>4.9</td>\n",
              "      <td>1.5</td>\n",
              "      <td>versicolor</td>\n",
              "    </tr>\n",
              "    <tr>\n",
              "      <th>8</th>\n",
              "      <td>5.5</td>\n",
              "      <td>2.3</td>\n",
              "      <td>4.0</td>\n",
              "      <td>1.3</td>\n",
              "      <td>versicolor</td>\n",
              "    </tr>\n",
              "    <tr>\n",
              "      <th>9</th>\n",
              "      <td>6.5</td>\n",
              "      <td>2.8</td>\n",
              "      <td>4.6</td>\n",
              "      <td>1.5</td>\n",
              "      <td>versicolor</td>\n",
              "    </tr>\n",
              "  </tbody>\n",
              "</table>\n",
              "</div>"
            ],
            "text/plain": [
              "   sepal_length  sepal_width  petal_length  petal_width     species\n",
              "0           5.1          3.5           1.4          0.2      setosa\n",
              "1           4.9          3.0           1.4          0.2      setosa\n",
              "2           4.7          3.2           1.3          0.2      setosa\n",
              "3           4.6          3.1           1.5          0.2      setosa\n",
              "4           5.0          3.6           1.4          0.2      setosa\n",
              "5           7.0          3.2           4.7          1.4  versicolor\n",
              "6           6.4          3.2           4.5          1.5  versicolor\n",
              "7           6.9          3.1           4.9          1.5  versicolor\n",
              "8           5.5          2.3           4.0          1.3  versicolor\n",
              "9           6.5          2.8           4.6          1.5  versicolor"
            ]
          },
          "metadata": {},
          "execution_count": 171
        }
      ]
    },
    {
      "cell_type": "code",
      "metadata": {
        "id": "aSuTSSstOsiG"
      },
      "source": [
        "dataset['species'] = dataset['species'].map({'setosa':0,'versicolor':1})"
      ],
      "execution_count": null,
      "outputs": []
    },
    {
      "cell_type": "code",
      "metadata": {
        "id": "yZzkk2ed8mqU"
      },
      "source": [
        "X_train = dataset.drop('species',axis=1)\n",
        "y_train = dataset.species"
      ],
      "execution_count": null,
      "outputs": []
    },
    {
      "cell_type": "code",
      "metadata": {
        "id": "RFgAtDVzO_bd"
      },
      "source": [
        "X_test = pd.DataFrame([[8.2,2.6,3.2,1.8]],columns=['sepal_length','sepal_width','petal_length','petal_width']) "
      ],
      "execution_count": null,
      "outputs": []
    },
    {
      "cell_type": "code",
      "metadata": {
        "id": "lsdaBF2R7Zy1"
      },
      "source": [
        "class knn():\n",
        "  K = 0\n",
        "  X_train = ''\n",
        "  y_train = ''\n",
        "  def __init__(self,k):\n",
        "    self.K = k\n",
        "  def fit_train_data(self,features,labels):\n",
        "    self.X_train = features\n",
        "    self.y_train = labels\n",
        "  def euclidean_distance(self,x,y):\n",
        "    return spatial.distance.euclidean(x, y)\n",
        "  def sort_distance(self,x):\n",
        "    return dict(sorted(x.items(), key=lambda y:y[1]))\n",
        "  def common(self,lst):\n",
        "    return max(set(lst), key=lst.count)\n",
        "  def pred(self,feature):\n",
        "    dist = {}\n",
        "    first_k_values = []\n",
        "    for i in range(len(feature)):\n",
        "      for j in range(len(X_train)):\n",
        "        distance = euclidean_distance(X_train.iloc[j],feature.iloc[i])\n",
        "        dist[j] = distance\n",
        "    distance_sorted = self.sort_distance(dist)\n",
        "    first_k_value  = list(distance_sorted.items())[:self.K]\n",
        "    for i,j in first_k_value:\n",
        "      first_k_values.append(self.y_train.iloc[i])\n",
        "    return self.common(first_k_values)"
      ],
      "execution_count": null,
      "outputs": []
    },
    {
      "cell_type": "code",
      "metadata": {
        "colab": {
          "base_uri": "https://localhost:8080/"
        },
        "id": "DU4D3T4k7Z7H",
        "outputId": "99954906-2f64-40ca-82f9-171e1c5cf579"
      },
      "source": [
        "#knn = 3\n",
        "knn_obj = knn(3)\n",
        "knn_obj.fit_train_data(X_train,y_train)\n",
        "print(knn_obj.pred(X_test))\n",
        "\n",
        "#knn = 5\n",
        "knn_obj = knn(3)\n",
        "knn_obj.fit_train_data(X_train,y_train)\n",
        "print(knn_obj.pred(X_test))\n",
        "\n",
        "#knn = 7\n",
        "knn_obj = knn(3)\n",
        "knn_obj.fit_train_data(X_train,y_train)\n",
        "print(knn_obj.pred(X_test))\n"
      ],
      "execution_count": null,
      "outputs": [
        {
          "output_type": "stream",
          "name": "stdout",
          "text": [
            "1\n",
            "1\n",
            "1\n"
          ]
        }
      ]
    }
  ]
}